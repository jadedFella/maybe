{
 "cells": [
  {
   "cell_type": "code",
   "execution_count": 1,
   "metadata": {},
   "outputs": [
    {
     "ename": "SyntaxError",
     "evalue": "invalid character '’' (U+2019) (408029310.py, line 59)",
     "output_type": "error",
     "traceback": [
      "\u001b[1;36m  Cell \u001b[1;32mIn[1], line 59\u001b[1;36m\u001b[0m\n\u001b[1;33m    ax.set_title(f’Polynomial regression of order 2 for dataset {i}')\u001b[0m\n\u001b[1;37m                  ^\u001b[0m\n\u001b[1;31mSyntaxError\u001b[0m\u001b[1;31m:\u001b[0m invalid character '’' (U+2019)\n"
     ]
    }
   ],
   "source": [
    "import pandas as pd\n",
    "import numpy as np\n",
    "import math\n",
    "from sklearn.linear_model import LinearRegression\n",
    "from sklearn.metrics import mean_squared_error, mean_absolute_error, r2_score\n",
    "import matplotlib.pyplot as plt\n",
    "from mpl_toolkits.mplot3d import Axes3D\n",
    "from sklearn.preprocessing import PolynomialFeatures\n",
    "\n",
    "#Importing dataset\n",
    "datasets = [\"diabetes\",\"plastic\",\"ele-1\"]\n",
    "for j in datasets:\n",
    "  rsmeList=[]\n",
    "  maeList=[]\n",
    "  r2List=[]\n",
    "  print(f\"Results for dataset {j}\")\n",
    "  for i in range(1,6):\n",
    "    training = pd.read_csv(f\"{j}-5-{i}tra.dat\")\n",
    "    testing = pd.read_csv(f\"{j}-5-{i}tst.dat\")\n",
    "\n",
    "    X_train=training.iloc[: , :-1]\n",
    "    Y_train=training.iloc[: , -1]\n",
    "\n",
    "    X_test=testing.iloc[: , :-1]\n",
    "    Y_test=testing.iloc[: , -1]\n",
    "\n",
    "    poly_reg = PolynomialFeatures(degree = 2)\n",
    "    X_poly_train = poly_reg.fit_transform(X_train)\n",
    "    X_poly_test = poly_reg.transform(X_test)\n",
    "    regressor = LinearRegression()\n",
    "    regressor.fit(X_poly_train, Y_train)\n",
    "    y_pred=regressor.predict(X_poly_test)\n",
    "\n",
    "    rsme=math.sqrt(mean_squared_error(Y_test,y_pred))\n",
    "    mae=mean_absolute_error(Y_test,y_pred)\n",
    "    r2=r2_score(Y_test,y_pred)\n",
    "\n",
    "    rsmeList.append(rsme)\n",
    "    maeList.append(mae)\n",
    "    r2List.append(r2)\n",
    "\n",
    "    print(\"Results for dataset \", i)\n",
    "    print(\"RSME = \" , rsme)\n",
    "    print(\"MAE = \" , mae)\n",
    "    print(\"R2_score = \" , r2)\n",
    "\n",
    "    fig = plt.figure()\n",
    "    ax = fig.add_subplot(111, projection='3d')\n",
    "    ax.scatter(X_test.iloc[:, 0], X_test.iloc[:, 1], Y_test, c='blue', marker='o', label='Actual')\n",
    "    ax.scatter(X_test.iloc[:, 0], X_test.iloc[:, 1], y_pred, c='red', marker='^', label='Predicted')\n",
    "    x_min, x_max = X_test.iloc[:, 0].min(), X_test.iloc[:, 0].max()\n",
    "    y_min, y_max = X_test.iloc[:, 1].min(), X_test.iloc[:, 1].max()\n",
    "    xx, yy = np.meshgrid(np.linspace(x_min, x_max, 10), np.linspace(y_min, y_max, 10))\n",
    "    zz = regressor.predict(poly_reg.transform(np.c_[xx.ravel(), yy.ravel()])).reshape(xx.shape)\n",
    "    ax.plot_surface(xx, yy, zz, alpha=0.4, color = 'green', label='Regression')\n",
    "    ax.set_xlabel('Input 1')\n",
    "    ax.set_ylabel('Input 2')\n",
    "    ax.set_zlabel('Output')\n",
    "    ax.set_title(f’Polynomial regression of order 2 for dataset {i}')\n",
    "    plt.show()\n",
    " #Calculating averages of 5 datasets of each dataset\n",
    "avg_rsme=sum(rsmeList)/len(rsmeList)\n",
    "avg_mae=sum(maeList)/len(maeList)\n",
    "avg_r2=sum(r2List)/len(r2List)\n",
    "print(f\"Avg RSME = {avg_rsme}\")\n",
    "print(f\"Avg MAE = {avg_mae}\")\n",
    "print(f\"Avg R2_SCORE = {avg_r2}\")\n"
   ]
  }
 ],
 "metadata": {
  "kernelspec": {
   "display_name": "Python 3",
   "language": "python",
   "name": "python3"
  },
  "language_info": {
   "codemirror_mode": {
    "name": "ipython",
    "version": 3
   },
   "file_extension": ".py",
   "mimetype": "text/x-python",
   "name": "python",
   "nbconvert_exporter": "python",
   "pygments_lexer": "ipython3",
   "version": "3.12.0"
  }
 },
 "nbformat": 4,
 "nbformat_minor": 2
}
